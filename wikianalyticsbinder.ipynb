{
 "cells": [
  {
   "cell_type": "code",
   "execution_count": 1,
   "metadata": {},
   "outputs": [
    {
     "name": "stdout",
     "output_type": "stream",
     "text": [
      "he\n"
     ]
    }
   ],
   "source": [
    "print(\"he\")"
   ]
  },
  {
   "cell_type": "code",
   "execution_count": 2,
   "metadata": {},
   "outputs": [
    {
     "name": "stdout",
     "output_type": "stream",
     "text": [
      "Collecting sseclient\n",
      "  Downloading https://files.pythonhosted.org/packages/ee/b9/baec6c72eb823161f60538c10a7d0a41d0144539b47ef388620b3ed50beb/sseclient-0.0.22.tar.gz\n",
      "Requirement already satisfied: requests>=2.0.0 in /srv/conda/lib/python3.6/site-packages (from sseclient) (2.21.0)\n",
      "Requirement already satisfied: six in /srv/conda/lib/python3.6/site-packages (from sseclient) (1.12.0)\n",
      "Requirement already satisfied: urllib3<1.25,>=1.21.1 in /srv/conda/lib/python3.6/site-packages (from requests>=2.0.0->sseclient) (1.24.1)\n",
      "Requirement already satisfied: chardet<3.1.0,>=3.0.2 in /srv/conda/lib/python3.6/site-packages (from requests>=2.0.0->sseclient) (3.0.4)\n",
      "Requirement already satisfied: certifi>=2017.4.17 in /srv/conda/lib/python3.6/site-packages (from requests>=2.0.0->sseclient) (2018.11.29)\n",
      "Requirement already satisfied: idna<2.9,>=2.5 in /srv/conda/lib/python3.6/site-packages (from requests>=2.0.0->sseclient) (2.8)\n",
      "Building wheels for collected packages: sseclient\n",
      "  Building wheel for sseclient (setup.py) ... \u001b[?25ldone\n",
      "\u001b[?25h  Stored in directory: /home/jovyan/.cache/pip/wheels/fc/b8/5c/c7e0a8161e61dc1ab00c0b5a1a34a3887eb47170ae1a46f7b1\n",
      "Successfully built sseclient\n",
      "Installing collected packages: sseclient\n",
      "Successfully installed sseclient-0.0.22\n"
     ]
    }
   ],
   "source": [
    "import sys\n",
    "!{sys.executable} -m pip install sseclient"
   ]
  },
  {
   "cell_type": "code",
   "execution_count": 9,
   "metadata": {},
   "outputs": [
    {
     "name": "stdout",
     "output_type": "stream",
     "text": [
      "Collecting bs4\n",
      "  Downloading https://files.pythonhosted.org/packages/10/ed/7e8b97591f6f456174139ec089c769f89a94a1a4025fe967691de971f314/bs4-0.0.1.tar.gz\n",
      "Collecting beautifulsoup4 (from bs4)\n",
      "\u001b[?25l  Downloading https://files.pythonhosted.org/packages/1d/5d/3260694a59df0ec52f8b4883f5d23b130bc237602a1411fa670eae12351e/beautifulsoup4-4.7.1-py3-none-any.whl (94kB)\n",
      "\u001b[K    100% |████████████████████████████████| 102kB 2.7MB/s a 0:00:011\n",
      "\u001b[?25hCollecting soupsieve>=1.2 (from beautifulsoup4->bs4)\n",
      "\u001b[?25l  Downloading https://files.pythonhosted.org/packages/77/78/bca00cc9fa70bba1226ee70a42bf375c4e048fe69066a0d9b5e69bc2a79a/soupsieve-1.8-py2.py3-none-any.whl (88kB)\n",
      "\u001b[K    100% |████████████████████████████████| 92kB 11.0MB/s ta 0:00:01\n",
      "\u001b[?25hBuilding wheels for collected packages: bs4\n",
      "  Building wheel for bs4 (setup.py) ... \u001b[?25ldone\n",
      "\u001b[?25h  Stored in directory: /home/jovyan/.cache/pip/wheels/a0/b0/b2/4f80b9456b87abedbc0bf2d52235414c3467d8889be38dd472\n",
      "Successfully built bs4\n",
      "Installing collected packages: soupsieve, beautifulsoup4, bs4\n",
      "Successfully installed beautifulsoup4-4.7.1 bs4-0.0.1 soupsieve-1.8\n"
     ]
    }
   ],
   "source": [
    "import sys\n",
    "!{sys.executable} -m pip install bs4"
   ]
  },
  {
   "cell_type": "code",
   "execution_count": 28,
   "metadata": {},
   "outputs": [
    {
     "name": "stdout",
     "output_type": "stream",
     "text": [
      "Collecting matplotlib\n",
      "\u001b[?25l  Downloading https://files.pythonhosted.org/packages/e9/69/f5e05f578585ed9935247be3788b374f90701296a70c8871bcd6d21edb00/matplotlib-3.0.3-cp36-cp36m-manylinux1_x86_64.whl (13.0MB)\n",
      "\u001b[K    100% |████████████████████████████████| 13.0MB 211kB/s eta 0:00:01\n",
      "\u001b[?25hCollecting numpy>=1.10.0 (from matplotlib)\n",
      "\u001b[?25l  Downloading https://files.pythonhosted.org/packages/35/d5/4f8410ac303e690144f0a0603c4b8fd3b986feb2749c435f7cdbb288f17e/numpy-1.16.2-cp36-cp36m-manylinux1_x86_64.whl (17.3MB)\n",
      "\u001b[K    100% |████████████████████████████████| 17.3MB 128kB/s eta 0:00:01\n",
      "\u001b[?25hRequirement already satisfied: python-dateutil>=2.1 in /srv/conda/lib/python3.6/site-packages (from matplotlib) (2.7.5)\n",
      "Collecting cycler>=0.10 (from matplotlib)\n",
      "  Downloading https://files.pythonhosted.org/packages/f7/d2/e07d3ebb2bd7af696440ce7e754c59dd546ffe1bbe732c8ab68b9c834e61/cycler-0.10.0-py2.py3-none-any.whl\n",
      "Collecting pyparsing!=2.0.4,!=2.1.2,!=2.1.6,>=2.0.1 (from matplotlib)\n",
      "\u001b[?25l  Downloading https://files.pythonhosted.org/packages/de/0a/001be530836743d8be6c2d85069f46fecf84ac6c18c7f5fb8125ee11d854/pyparsing-2.3.1-py2.py3-none-any.whl (61kB)\n",
      "\u001b[K    100% |████████████████████████████████| 71kB 24.0MB/s ta 0:00:01\n",
      "\u001b[?25hCollecting kiwisolver>=1.0.1 (from matplotlib)\n",
      "\u001b[?25l  Downloading https://files.pythonhosted.org/packages/69/a7/88719d132b18300b4369fbffa741841cfd36d1e637e1990f27929945b538/kiwisolver-1.0.1-cp36-cp36m-manylinux1_x86_64.whl (949kB)\n",
      "\u001b[K    100% |████████████████████████████████| 952kB 7.4MB/s eta 0:00:01\n",
      "\u001b[?25hRequirement already satisfied: six>=1.5 in /srv/conda/lib/python3.6/site-packages (from python-dateutil>=2.1->matplotlib) (1.12.0)\n",
      "Requirement already satisfied: setuptools in /srv/conda/lib/python3.6/site-packages (from kiwisolver>=1.0.1->matplotlib) (40.7.1)\n",
      "Installing collected packages: numpy, cycler, pyparsing, kiwisolver, matplotlib\n",
      "Successfully installed cycler-0.10.0 kiwisolver-1.0.1 matplotlib-3.0.3 numpy-1.16.2 pyparsing-2.3.1\n"
     ]
    }
   ],
   "source": [
    "import sys\n",
    "!{sys.executable} -m pip install matplotlib"
   ]
  },
  {
   "cell_type": "code",
   "execution_count": 3,
   "metadata": {},
   "outputs": [
    {
     "name": "stdout",
     "output_type": "stream",
     "text": [
      "Giorgio Michele edited Category:Ottos Eck\n",
      "{'bot': False, 'comment': 'new cat', 'id': 1196043841, 'length': {'new': 260, 'old': None}, 'meta': {'domain': 'commons.wikimedia.org', 'dt': '2019-03-06T12:20:16+00:00', 'id': '32f0d236-400a-11e9-84f4-141877613bad', 'request_id': '80b9f5a3-06b5-4b5c-b720-df62e5cd52ac', 'schema_uri': 'mediawiki/recentchange/2', 'topic': 'eqiad.mediawiki.recentchange', 'uri': 'https://commons.wikimedia.org/wiki/Category:Ottos_Eck', 'partition': 0, 'offset': 1433347363}, 'minor': False, 'namespace': 14, 'parsedcomment': 'new cat', 'patrolled': True, 'revision': {'new': 341707596, 'old': None}, 'server_name': 'commons.wikimedia.org', 'server_script_path': '/w', 'server_url': 'https://commons.wikimedia.org', 'timestamp': 1551874816, 'title': 'Category:Ottos Eck', 'type': 'new', 'user': 'Giorgio Michele', 'wiki': 'commonswiki'}\n",
      "Renamerr edited Q34348092\n",
      "{'bot': True, 'comment': '/* wbsetdescription-set:1|uk */ наукова стаття, опублікована в червні 2013, #quickstatements', 'id': 912046238, 'length': {'new': 35486, 'old': 35439}, 'meta': {'domain': 'www.wikidata.org', 'dt': '2019-03-06T12:20:16+00:00', 'id': '32f0c25f-400a-11e9-b05c-141877613170', 'request_id': '7511ba4e-ac28-4853-af6f-6b7ff70f2438', 'schema_uri': 'mediawiki/recentchange/2', 'topic': 'eqiad.mediawiki.recentchange', 'uri': 'https://www.wikidata.org/wiki/Q34348092', 'partition': 0, 'offset': 1433347364}, 'minor': False, 'namespace': 0, 'parsedcomment': '\\u200e<span dir=\"auto\"><span class=\"autocomment\">Змінено опис [uk]: </span></span> наукова стаття, опублікована в червні 2013, #quickstatements', 'patrolled': True, 'revision': {'new': 875593756, 'old': 744547866}, 'server_name': 'www.wikidata.org', 'server_script_path': '/w', 'server_url': 'https://www.wikidata.org', 'timestamp': 1551874816, 'title': 'Q34348092', 'type': 'edit', 'user': 'Renamerr', 'wiki': 'wikidatawiki'}\n",
      "Ciell edited Gebruiker:Janeyjoan\n",
      "{'bot': False, 'comment': '', 'log_action': 'thank', 'log_action_comment': 'Ciell heeft Janeyjoan bedankt', 'log_id': 29237392, 'log_params': [], 'log_type': 'thanks', 'meta': {'domain': 'nl.wikipedia.org', 'dt': '2019-03-06T12:20:16+00:00', 'id': '32f0d091-400a-11e9-948a-1866da9953ca', 'request_id': '34f0021a-cfc7-442c-8a0d-9f928b8f9706', 'schema_uri': 'mediawiki/recentchange/2', 'topic': 'eqiad.mediawiki.recentchange', 'uri': 'https://nl.wikipedia.org/wiki/Gebruiker:Janeyjoan', 'partition': 0, 'offset': 1433347365}, 'namespace': 2, 'parsedcomment': '', 'server_name': 'nl.wikipedia.org', 'server_script_path': '/w', 'server_url': 'https://nl.wikipedia.org', 'timestamp': 1551874816, 'title': 'Gebruiker:Janeyjoan', 'type': 'log', 'user': 'Ciell', 'wiki': 'nlwiki'}\n",
      "Simon Villeneuve edited Q60278399\n",
      "{'bot': False, 'comment': '/* wbsetdescription-add:1|en */ scientific article published in Nature, #quickstatements; #temporary_batch_1551667159845', 'id': 912046239, 'length': {'new': 4293, 'old': 4196}, 'meta': {'domain': 'www.wikidata.org', 'dt': '2019-03-06T12:20:16+00:00', 'id': '32f0cb6a-400a-11e9-a6c3-1866da994aad', 'request_id': '355c4633-c1f3-48ac-a620-61e67b29a03f', 'schema_uri': 'mediawiki/recentchange/2', 'topic': 'eqiad.mediawiki.recentchange', 'uri': 'https://www.wikidata.org/wiki/Q60278399', 'partition': 0, 'offset': 1433347366}, 'minor': False, 'namespace': 0, 'parsedcomment': '\\u200e<span dir=\"auto\"><span class=\"autocomment\">Description [en] ajoutée\\xa0: </span></span> scientific article published in Nature, #quickstatements; #temporary_batch_1551667159845', 'patrolled': True, 'revision': {'new': 875593757, 'old': 870874294}, 'server_name': 'www.wikidata.org', 'server_script_path': '/w', 'server_url': 'https://www.wikidata.org', 'timestamp': 1551874816, 'title': 'Q60278399', 'type': 'edit', 'user': 'Simon Villeneuve', 'wiki': 'wikidatawiki'}\n",
      "Tagishsimon edited Q45648627\n",
      "{'bot': False, 'comment': '/* wbsetdescription-add:1|en */ Qing dynasty person CBDB = 355002, #quickstatements; [[:toollabs:quickstatements/#/batch/8923|batch #8923]] by [[User:Tagishsimon|]]', 'id': 912046240, 'length': {'new': 2104, 'old': 2012}, 'meta': {'domain': 'www.wikidata.org', 'dt': '2019-03-06T12:20:16+00:00', 'id': '33896456-400a-11e9-9906-1418776139a6', 'request_id': '78005a6f-36d8-4706-8c30-f4c2cb7123a4', 'schema_uri': 'mediawiki/recentchange/2', 'topic': 'eqiad.mediawiki.recentchange', 'uri': 'https://www.wikidata.org/wiki/Q45648627', 'partition': 0, 'offset': 1433347367}, 'minor': False, 'namespace': 0, 'parsedcomment': '\\u200e<span dir=\"auto\"><span class=\"autocomment\">Added [en] description: </span></span> Qing dynasty person CBDB = 355002, #quickstatements; <a href=\"https://tools.wmflabs.org/quickstatements/#.2Fbatch.2F8923\" class=\"extiw\" title=\"toollabs:quickstatements/\">batch #8923</a> by <a href=\"/wiki/User:Tagishsimon\" title=\"User:Tagishsimon\">User:Tagishsimon</a>', 'patrolled': True, 'revision': {'new': 875593758, 'old': 773110802}, 'server_name': 'www.wikidata.org', 'server_script_path': '/w', 'server_url': 'https://www.wikidata.org', 'timestamp': 1551874816, 'title': 'Q45648627', 'type': 'edit', 'user': 'Tagishsimon', 'wiki': 'wikidatawiki'}\n",
      "Cwmhiraeth edited The Sisters (painting)\n",
      "{'bot': False, 'comment': '', 'id': 1135475802, 'log_action': 'reviewed', 'log_action_comment': 'Cwmhiraeth marked [[The Sisters (painting)]] as reviewed', 'log_id': 97509659, 'log_params': [], 'log_type': 'pagetriage-curation', 'meta': {'domain': 'en.wikipedia.org', 'dt': '2019-03-06T12:20:16+00:00', 'id': '33895ce6-400a-11e9-be5c-1866da9950fa', 'request_id': '6bd98d15-1973-4dc7-8185-10a1f9534177', 'schema_uri': 'mediawiki/recentchange/2', 'topic': 'eqiad.mediawiki.recentchange', 'uri': 'https://en.wikipedia.org/wiki/The_Sisters_(painting)', 'partition': 0, 'offset': 1433347368}, 'namespace': 0, 'parsedcomment': '', 'server_name': 'en.wikipedia.org', 'server_script_path': '/w', 'server_url': 'https://en.wikipedia.org', 'timestamp': 1551874816, 'title': 'The Sisters (painting)', 'type': 'log', 'user': 'Cwmhiraeth', 'wiki': 'enwiki'}\n",
      "Bagumba edited User talk:Jimmiefoxx\n",
      "{'bot': False, 'comment': 'Notice: Use preview button to avoid mistakes on [[:Tony Gwynn]]. ([[WP:TW|TW]])', 'id': 1135475804, 'length': {'new': 12493, 'old': 11493}, 'meta': {'domain': 'en.wikipedia.org', 'dt': '2019-03-06T12:20:15+00:00', 'id': '33896984-400a-11e9-b51c-1418776141b3', 'request_id': 'efba976e-15bb-4546-aaae-4789a58d5515', 'schema_uri': 'mediawiki/recentchange/2', 'topic': 'eqiad.mediawiki.recentchange', 'uri': 'https://en.wikipedia.org/wiki/User_talk:Jimmiefoxx', 'partition': 0, 'offset': 1433347369}, 'minor': False, 'namespace': 3, 'parsedcomment': 'Notice: Use preview button to avoid mistakes on <a href=\"/wiki/Tony_Gwynn\" title=\"Tony Gwynn\">Tony Gwynn</a>. (<a href=\"/wiki/Wikipedia:TW\" class=\"mw-redirect\" title=\"Wikipedia:TW\">TW</a>)', 'revision': {'new': 886461561, 'old': 886461288}, 'server_name': 'en.wikipedia.org', 'server_script_path': '/w', 'server_url': 'https://en.wikipedia.org', 'timestamp': 1551874815, 'title': 'User talk:Jimmiefoxx', 'type': 'edit', 'user': 'Bagumba', 'wiki': 'enwiki'}\n",
      "45.243.153.203 edited Category:Singlechart usages for Billboardrandb\n",
      "{'bot': False, 'comment': '[[:Undecided (Chris Brown song)]] added to category', 'id': 1135475803, 'meta': {'domain': 'en.wikipedia.org', 'dt': '2019-03-06T12:20:14+00:00', 'id': '33896841-400a-11e9-b0b5-141877614a5d', 'request_id': 'XH@6-gpAAD8AAJgO6z4AAABL', 'schema_uri': 'mediawiki/recentchange/2', 'topic': 'eqiad.mediawiki.recentchange', 'uri': 'https://en.wikipedia.org/wiki/Category:Singlechart_usages_for_Billboardrandb', 'partition': 0, 'offset': 1433347370}, 'namespace': 14, 'parsedcomment': '<a href=\"/wiki/Undecided_(Chris_Brown_song)\" title=\"Undecided (Chris Brown song)\">Undecided (Chris Brown song)</a> added to category', 'server_name': 'en.wikipedia.org', 'server_script_path': '/w', 'server_url': 'https://en.wikipedia.org', 'timestamp': 1551874814, 'title': 'Category:Singlechart usages for Billboardrandb', 'type': 'categorize', 'user': '45.243.153.203', 'wiki': 'enwiki'}\n",
      "45.243.153.203 edited Category:Singlechart usages for Billboardhotrandb\n",
      "{'bot': False, 'comment': '[[:Undecided (Chris Brown song)]] removed from category', 'id': 1135475805, 'meta': {'domain': 'en.wikipedia.org', 'dt': '2019-03-06T12:20:14+00:00', 'id': '33896842-400a-11e9-b0b5-141877614a5d', 'request_id': 'XH@6-gpAAD8AAJgO6z4AAABL', 'schema_uri': 'mediawiki/recentchange/2', 'topic': 'eqiad.mediawiki.recentchange', 'uri': 'https://en.wikipedia.org/wiki/Category:Singlechart_usages_for_Billboardhotrandb', 'partition': 0, 'offset': 1433347371}, 'namespace': 14, 'parsedcomment': '<a href=\"/wiki/Undecided_(Chris_Brown_song)\" title=\"Undecided (Chris Brown song)\">Undecided (Chris Brown song)</a> removed from category', 'server_name': 'en.wikipedia.org', 'server_script_path': '/w', 'server_url': 'https://en.wikipedia.org', 'timestamp': 1551874814, 'title': 'Category:Singlechart usages for Billboardhotrandb', 'type': 'categorize', 'user': '45.243.153.203', 'wiki': 'enwiki'}\n",
      "Rosibot edited Chionosphaeraceae\n",
      "{'bot': True, 'comment': 'Bot: Automated text replacement  (-=Links= +={{int:Links}}=)', 'id': 7247356, 'length': {'new': 517, 'old': 509}, 'meta': {'domain': 'species.wikimedia.org', 'dt': '2019-03-06T12:20:16+00:00', 'id': '33896964-400a-11e9-a7ea-b083fecf0a84', 'request_id': '32e16d47-badf-4889-a04b-9359510bea58', 'schema_uri': 'mediawiki/recentchange/2', 'topic': 'eqiad.mediawiki.recentchange', 'uri': 'https://species.wikimedia.org/wiki/Chionosphaeraceae', 'partition': 0, 'offset': 1433347372}, 'minor': True, 'namespace': 0, 'parsedcomment': 'Bot: Automated text replacement  (-=Links= +={{int:Links}}=)', 'patrolled': True, 'revision': {'new': 4790186, 'old': 4057867}, 'server_name': 'species.wikimedia.org', 'server_script_path': '/w', 'server_url': 'https://species.wikimedia.org', 'timestamp': 1551874816, 'title': 'Chionosphaeraceae', 'type': 'edit', 'user': 'Rosibot', 'wiki': 'specieswiki'}\n"
     ]
    }
   ],
   "source": [
    "import json\n",
    "from sseclient import SSEClient as EventSource\n",
    "\n",
    "url = 'https://stream.wikimedia.org/v2/stream/recentchange'\n",
    "count = 0\n",
    "finaldocuments={}\n",
    "documents=[]\n",
    "for event in EventSource(url):\n",
    "    if event.event == 'message':\n",
    "        count = count + 1\n",
    "        try:\n",
    "            change = json.loads(event.data)\n",
    "        except ValueError:\n",
    "            pass\n",
    "        else:\n",
    "            print('{user} edited {title}'.format(**change))\n",
    "            print(change)\n",
    "            microdict={}\n",
    "            microdict['language']= \"en\"\n",
    "            microdict['text']=json.dumps(change)\n",
    "            microdict['id']=count\n",
    "            #print(microdict)\n",
    "            documents.append(microdict)\n",
    "            if count >10:\n",
    "                break\n",
    "finaldocuments['documents']=documents\n"
   ]
  },
  {
   "cell_type": "code",
   "execution_count": 4,
   "metadata": {},
   "outputs": [
    {
     "name": "stdout",
     "output_type": "stream",
     "text": [
      "{'documents': [{'language': 'en', 'text': '{\"bot\": false, \"comment\": \"new cat\", \"id\": 1196043841, \"length\": {\"new\": 260, \"old\": null}, \"meta\": {\"domain\": \"commons.wikimedia.org\", \"dt\": \"2019-03-06T12:20:16+00:00\", \"id\": \"32f0d236-400a-11e9-84f4-141877613bad\", \"request_id\": \"80b9f5a3-06b5-4b5c-b720-df62e5cd52ac\", \"schema_uri\": \"mediawiki/recentchange/2\", \"topic\": \"eqiad.mediawiki.recentchange\", \"uri\": \"https://commons.wikimedia.org/wiki/Category:Ottos_Eck\", \"partition\": 0, \"offset\": 1433347363}, \"minor\": false, \"namespace\": 14, \"parsedcomment\": \"new cat\", \"patrolled\": true, \"revision\": {\"new\": 341707596, \"old\": null}, \"server_name\": \"commons.wikimedia.org\", \"server_script_path\": \"/w\", \"server_url\": \"https://commons.wikimedia.org\", \"timestamp\": 1551874816, \"title\": \"Category:Ottos Eck\", \"type\": \"new\", \"user\": \"Giorgio Michele\", \"wiki\": \"commonswiki\"}', 'id': 2}, {'language': 'en', 'text': '{\"bot\": true, \"comment\": \"/* wbsetdescription-set:1|uk */ \\\\u043d\\\\u0430\\\\u0443\\\\u043a\\\\u043e\\\\u0432\\\\u0430 \\\\u0441\\\\u0442\\\\u0430\\\\u0442\\\\u0442\\\\u044f, \\\\u043e\\\\u043f\\\\u0443\\\\u0431\\\\u043b\\\\u0456\\\\u043a\\\\u043e\\\\u0432\\\\u0430\\\\u043d\\\\u0430 \\\\u0432 \\\\u0447\\\\u0435\\\\u0440\\\\u0432\\\\u043d\\\\u0456 2013, #quickstatements\", \"id\": 912046238, \"length\": {\"new\": 35486, \"old\": 35439}, \"meta\": {\"domain\": \"www.wikidata.org\", \"dt\": \"2019-03-06T12:20:16+00:00\", \"id\": \"32f0c25f-400a-11e9-b05c-141877613170\", \"request_id\": \"7511ba4e-ac28-4853-af6f-6b7ff70f2438\", \"schema_uri\": \"mediawiki/recentchange/2\", \"topic\": \"eqiad.mediawiki.recentchange\", \"uri\": \"https://www.wikidata.org/wiki/Q34348092\", \"partition\": 0, \"offset\": 1433347364}, \"minor\": false, \"namespace\": 0, \"parsedcomment\": \"\\\\u200e<span dir=\\\\\"auto\\\\\"><span class=\\\\\"autocomment\\\\\">\\\\u0417\\\\u043c\\\\u0456\\\\u043d\\\\u0435\\\\u043d\\\\u043e \\\\u043e\\\\u043f\\\\u0438\\\\u0441 [uk]: </span></span> \\\\u043d\\\\u0430\\\\u0443\\\\u043a\\\\u043e\\\\u0432\\\\u0430 \\\\u0441\\\\u0442\\\\u0430\\\\u0442\\\\u0442\\\\u044f, \\\\u043e\\\\u043f\\\\u0443\\\\u0431\\\\u043b\\\\u0456\\\\u043a\\\\u043e\\\\u0432\\\\u0430\\\\u043d\\\\u0430 \\\\u0432 \\\\u0447\\\\u0435\\\\u0440\\\\u0432\\\\u043d\\\\u0456 2013, #quickstatements\", \"patrolled\": true, \"revision\": {\"new\": 875593756, \"old\": 744547866}, \"server_name\": \"www.wikidata.org\", \"server_script_path\": \"/w\", \"server_url\": \"https://www.wikidata.org\", \"timestamp\": 1551874816, \"title\": \"Q34348092\", \"type\": \"edit\", \"user\": \"Renamerr\", \"wiki\": \"wikidatawiki\"}', 'id': 3}, {'language': 'en', 'text': '{\"bot\": false, \"comment\": \"\", \"log_action\": \"thank\", \"log_action_comment\": \"Ciell heeft Janeyjoan bedankt\", \"log_id\": 29237392, \"log_params\": [], \"log_type\": \"thanks\", \"meta\": {\"domain\": \"nl.wikipedia.org\", \"dt\": \"2019-03-06T12:20:16+00:00\", \"id\": \"32f0d091-400a-11e9-948a-1866da9953ca\", \"request_id\": \"34f0021a-cfc7-442c-8a0d-9f928b8f9706\", \"schema_uri\": \"mediawiki/recentchange/2\", \"topic\": \"eqiad.mediawiki.recentchange\", \"uri\": \"https://nl.wikipedia.org/wiki/Gebruiker:Janeyjoan\", \"partition\": 0, \"offset\": 1433347365}, \"namespace\": 2, \"parsedcomment\": \"\", \"server_name\": \"nl.wikipedia.org\", \"server_script_path\": \"/w\", \"server_url\": \"https://nl.wikipedia.org\", \"timestamp\": 1551874816, \"title\": \"Gebruiker:Janeyjoan\", \"type\": \"log\", \"user\": \"Ciell\", \"wiki\": \"nlwiki\"}', 'id': 4}, {'language': 'en', 'text': '{\"bot\": false, \"comment\": \"/* wbsetdescription-add:1|en */ scientific article published in Nature, #quickstatements; #temporary_batch_1551667159845\", \"id\": 912046239, \"length\": {\"new\": 4293, \"old\": 4196}, \"meta\": {\"domain\": \"www.wikidata.org\", \"dt\": \"2019-03-06T12:20:16+00:00\", \"id\": \"32f0cb6a-400a-11e9-a6c3-1866da994aad\", \"request_id\": \"355c4633-c1f3-48ac-a620-61e67b29a03f\", \"schema_uri\": \"mediawiki/recentchange/2\", \"topic\": \"eqiad.mediawiki.recentchange\", \"uri\": \"https://www.wikidata.org/wiki/Q60278399\", \"partition\": 0, \"offset\": 1433347366}, \"minor\": false, \"namespace\": 0, \"parsedcomment\": \"\\\\u200e<span dir=\\\\\"auto\\\\\"><span class=\\\\\"autocomment\\\\\">Description [en] ajout\\\\u00e9e\\\\u00a0: </span></span> scientific article published in Nature, #quickstatements; #temporary_batch_1551667159845\", \"patrolled\": true, \"revision\": {\"new\": 875593757, \"old\": 870874294}, \"server_name\": \"www.wikidata.org\", \"server_script_path\": \"/w\", \"server_url\": \"https://www.wikidata.org\", \"timestamp\": 1551874816, \"title\": \"Q60278399\", \"type\": \"edit\", \"user\": \"Simon Villeneuve\", \"wiki\": \"wikidatawiki\"}', 'id': 5}, {'language': 'en', 'text': '{\"bot\": false, \"comment\": \"/* wbsetdescription-add:1|en */ Qing dynasty person CBDB = 355002, #quickstatements; [[:toollabs:quickstatements/#/batch/8923|batch #8923]] by [[User:Tagishsimon|]]\", \"id\": 912046240, \"length\": {\"new\": 2104, \"old\": 2012}, \"meta\": {\"domain\": \"www.wikidata.org\", \"dt\": \"2019-03-06T12:20:16+00:00\", \"id\": \"33896456-400a-11e9-9906-1418776139a6\", \"request_id\": \"78005a6f-36d8-4706-8c30-f4c2cb7123a4\", \"schema_uri\": \"mediawiki/recentchange/2\", \"topic\": \"eqiad.mediawiki.recentchange\", \"uri\": \"https://www.wikidata.org/wiki/Q45648627\", \"partition\": 0, \"offset\": 1433347367}, \"minor\": false, \"namespace\": 0, \"parsedcomment\": \"\\\\u200e<span dir=\\\\\"auto\\\\\"><span class=\\\\\"autocomment\\\\\">Added [en] description: </span></span> Qing dynasty person CBDB = 355002, #quickstatements; <a href=\\\\\"https://tools.wmflabs.org/quickstatements/#.2Fbatch.2F8923\\\\\" class=\\\\\"extiw\\\\\" title=\\\\\"toollabs:quickstatements/\\\\\">batch #8923</a> by <a href=\\\\\"/wiki/User:Tagishsimon\\\\\" title=\\\\\"User:Tagishsimon\\\\\">User:Tagishsimon</a>\", \"patrolled\": true, \"revision\": {\"new\": 875593758, \"old\": 773110802}, \"server_name\": \"www.wikidata.org\", \"server_script_path\": \"/w\", \"server_url\": \"https://www.wikidata.org\", \"timestamp\": 1551874816, \"title\": \"Q45648627\", \"type\": \"edit\", \"user\": \"Tagishsimon\", \"wiki\": \"wikidatawiki\"}', 'id': 6}, {'language': 'en', 'text': '{\"bot\": false, \"comment\": \"\", \"id\": 1135475802, \"log_action\": \"reviewed\", \"log_action_comment\": \"Cwmhiraeth marked [[The Sisters (painting)]] as reviewed\", \"log_id\": 97509659, \"log_params\": [], \"log_type\": \"pagetriage-curation\", \"meta\": {\"domain\": \"en.wikipedia.org\", \"dt\": \"2019-03-06T12:20:16+00:00\", \"id\": \"33895ce6-400a-11e9-be5c-1866da9950fa\", \"request_id\": \"6bd98d15-1973-4dc7-8185-10a1f9534177\", \"schema_uri\": \"mediawiki/recentchange/2\", \"topic\": \"eqiad.mediawiki.recentchange\", \"uri\": \"https://en.wikipedia.org/wiki/The_Sisters_(painting)\", \"partition\": 0, \"offset\": 1433347368}, \"namespace\": 0, \"parsedcomment\": \"\", \"server_name\": \"en.wikipedia.org\", \"server_script_path\": \"/w\", \"server_url\": \"https://en.wikipedia.org\", \"timestamp\": 1551874816, \"title\": \"The Sisters (painting)\", \"type\": \"log\", \"user\": \"Cwmhiraeth\", \"wiki\": \"enwiki\"}', 'id': 7}, {'language': 'en', 'text': '{\"bot\": false, \"comment\": \"Notice: Use preview button to avoid mistakes on [[:Tony Gwynn]]. ([[WP:TW|TW]])\", \"id\": 1135475804, \"length\": {\"new\": 12493, \"old\": 11493}, \"meta\": {\"domain\": \"en.wikipedia.org\", \"dt\": \"2019-03-06T12:20:15+00:00\", \"id\": \"33896984-400a-11e9-b51c-1418776141b3\", \"request_id\": \"efba976e-15bb-4546-aaae-4789a58d5515\", \"schema_uri\": \"mediawiki/recentchange/2\", \"topic\": \"eqiad.mediawiki.recentchange\", \"uri\": \"https://en.wikipedia.org/wiki/User_talk:Jimmiefoxx\", \"partition\": 0, \"offset\": 1433347369}, \"minor\": false, \"namespace\": 3, \"parsedcomment\": \"Notice: Use preview button to avoid mistakes on <a href=\\\\\"/wiki/Tony_Gwynn\\\\\" title=\\\\\"Tony Gwynn\\\\\">Tony Gwynn</a>. (<a href=\\\\\"/wiki/Wikipedia:TW\\\\\" class=\\\\\"mw-redirect\\\\\" title=\\\\\"Wikipedia:TW\\\\\">TW</a>)\", \"revision\": {\"new\": 886461561, \"old\": 886461288}, \"server_name\": \"en.wikipedia.org\", \"server_script_path\": \"/w\", \"server_url\": \"https://en.wikipedia.org\", \"timestamp\": 1551874815, \"title\": \"User talk:Jimmiefoxx\", \"type\": \"edit\", \"user\": \"Bagumba\", \"wiki\": \"enwiki\"}', 'id': 8}, {'language': 'en', 'text': '{\"bot\": false, \"comment\": \"[[:Undecided (Chris Brown song)]] added to category\", \"id\": 1135475803, \"meta\": {\"domain\": \"en.wikipedia.org\", \"dt\": \"2019-03-06T12:20:14+00:00\", \"id\": \"33896841-400a-11e9-b0b5-141877614a5d\", \"request_id\": \"XH@6-gpAAD8AAJgO6z4AAABL\", \"schema_uri\": \"mediawiki/recentchange/2\", \"topic\": \"eqiad.mediawiki.recentchange\", \"uri\": \"https://en.wikipedia.org/wiki/Category:Singlechart_usages_for_Billboardrandb\", \"partition\": 0, \"offset\": 1433347370}, \"namespace\": 14, \"parsedcomment\": \"<a href=\\\\\"/wiki/Undecided_(Chris_Brown_song)\\\\\" title=\\\\\"Undecided (Chris Brown song)\\\\\">Undecided (Chris Brown song)</a> added to category\", \"server_name\": \"en.wikipedia.org\", \"server_script_path\": \"/w\", \"server_url\": \"https://en.wikipedia.org\", \"timestamp\": 1551874814, \"title\": \"Category:Singlechart usages for Billboardrandb\", \"type\": \"categorize\", \"user\": \"45.243.153.203\", \"wiki\": \"enwiki\"}', 'id': 9}, {'language': 'en', 'text': '{\"bot\": false, \"comment\": \"[[:Undecided (Chris Brown song)]] removed from category\", \"id\": 1135475805, \"meta\": {\"domain\": \"en.wikipedia.org\", \"dt\": \"2019-03-06T12:20:14+00:00\", \"id\": \"33896842-400a-11e9-b0b5-141877614a5d\", \"request_id\": \"XH@6-gpAAD8AAJgO6z4AAABL\", \"schema_uri\": \"mediawiki/recentchange/2\", \"topic\": \"eqiad.mediawiki.recentchange\", \"uri\": \"https://en.wikipedia.org/wiki/Category:Singlechart_usages_for_Billboardhotrandb\", \"partition\": 0, \"offset\": 1433347371}, \"namespace\": 14, \"parsedcomment\": \"<a href=\\\\\"/wiki/Undecided_(Chris_Brown_song)\\\\\" title=\\\\\"Undecided (Chris Brown song)\\\\\">Undecided (Chris Brown song)</a> removed from category\", \"server_name\": \"en.wikipedia.org\", \"server_script_path\": \"/w\", \"server_url\": \"https://en.wikipedia.org\", \"timestamp\": 1551874814, \"title\": \"Category:Singlechart usages for Billboardhotrandb\", \"type\": \"categorize\", \"user\": \"45.243.153.203\", \"wiki\": \"enwiki\"}', 'id': 10}, {'language': 'en', 'text': '{\"bot\": true, \"comment\": \"Bot: Automated text replacement  (-=Links= +={{int:Links}}=)\", \"id\": 7247356, \"length\": {\"new\": 517, \"old\": 509}, \"meta\": {\"domain\": \"species.wikimedia.org\", \"dt\": \"2019-03-06T12:20:16+00:00\", \"id\": \"33896964-400a-11e9-a7ea-b083fecf0a84\", \"request_id\": \"32e16d47-badf-4889-a04b-9359510bea58\", \"schema_uri\": \"mediawiki/recentchange/2\", \"topic\": \"eqiad.mediawiki.recentchange\", \"uri\": \"https://species.wikimedia.org/wiki/Chionosphaeraceae\", \"partition\": 0, \"offset\": 1433347372}, \"minor\": true, \"namespace\": 0, \"parsedcomment\": \"Bot: Automated text replacement  (-=Links= +={{int:Links}}=)\", \"patrolled\": true, \"revision\": {\"new\": 4790186, \"old\": 4057867}, \"server_name\": \"species.wikimedia.org\", \"server_script_path\": \"/w\", \"server_url\": \"https://species.wikimedia.org\", \"timestamp\": 1551874816, \"title\": \"Chionosphaeraceae\", \"type\": \"edit\", \"user\": \"Rosibot\", \"wiki\": \"specieswiki\"}', 'id': 11}]}\n"
     ]
    }
   ],
   "source": [
    "print(finaldocuments)"
   ]
  },
  {
   "cell_type": "code",
   "execution_count": 6,
   "metadata": {},
   "outputs": [],
   "source": [
    "\n",
    "subscription_key = \"3d80e125aeba44739c7d9b62c9c02c30\"\n",
    "assert subscription_key\n",
    "text_analytics_base_url = \"https://westeurope.api.cognitive.microsoft.com/text/analytics/v2.1-preview/entities\""
   ]
  },
  {
   "cell_type": "code",
   "execution_count": 7,
   "metadata": {},
   "outputs": [
    {
     "name": "stdout",
     "output_type": "stream",
     "text": [
      "{'entities': [{'matches': [{'length': 3, 'offset': 2, 'text': 'bot'}],\n",
      "               'name': 'bot',\n",
      "               'type': 'Location'},\n",
      "              {'matches': [{'length': 10, 'offset': 43, 'text': '1196043841'}],\n",
      "               'name': '1196043841',\n",
      "               'subType': 'Number',\n",
      "               'type': 'Quantity'},\n",
      "              {'matches': [{'length': 3, 'offset': 73, 'text': '260'}],\n",
      "               'name': '260',\n",
      "               'subType': 'Number',\n",
      "               'type': 'Quantity'},\n",
      "              {'bingId': 'edf11b56-c860-73db-6b81-889ac128cb17',\n",
      "               'matches': [{'length': 21,\n",
      "                            'offset': 112,\n",
      "                            'text': 'commons.wikimedia.org'}],\n",
      "               'name': 'Wikimedia Commons',\n",
      "               'wikipediaId': 'Wikimedia Commons',\n",
      "               'wikipediaLanguage': 'en',\n",
      "               'wikipediaUrl': 'https://en.wikipedia.org/wiki/Wikimedia_Commons'},\n",
      "              {'matches': [{'length': 19,\n",
      "                            'offset': 143,\n",
      "                            'text': '2019-03-06T12:20:16'}],\n",
      "               'name': '2019-03-06T12:20:16',\n",
      "               'type': 'DateTime'},\n",
      "              {'matches': [{'length': 5, 'offset': 163, 'text': '00:00'}],\n",
      "               'name': '00:00',\n",
      "               'subType': 'Time',\n",
      "               'type': 'DateTime'},\n",
      "              {'matches': [{'length': 3, 'offset': 166, 'text': '00\"'}],\n",
      "               'name': '00\"',\n",
      "               'subType': 'Dimension',\n",
      "               'type': 'Quantity'},\n",
      "              {'matches': [{'length': 3, 'offset': 178, 'text': '32f'}],\n",
      "               'name': '32f',\n",
      "               'subType': 'Temperature',\n",
      "               'type': 'Quantity'},\n",
      "              {'matches': [{'length': 5, 'offset': 191, 'text': '-11e9'}],\n",
      "               'name': '-11e9',\n",
      "               'subType': 'Number',\n",
      "               'type': 'Quantity'},\n",
      "              {'matches': [{'length': 3, 'offset': 197, 'text': '84f'}],\n",
      "               'name': '84f',\n",
      "               'subType': 'Temperature',\n",
      "               'type': 'Quantity'},\n",
      "              {'matches': [{'length': 3, 'offset': 279, 'text': 'uri'}],\n",
      "               'name': 'uri',\n",
      "               'type': 'Location'},\n",
      "              {'matches': [{'length': 2, 'offset': 309, 'text': '2\"'}],\n",
      "               'name': '2\"',\n",
      "               'subType': 'Dimension',\n",
      "               'type': 'Quantity'},\n",
      "              {'matches': [{'length': 43,\n",
      "                            'offset': 362,\n",
      "                            'text': 'https://commons.wikimedia.org/wiki/Category'}],\n",
      "               'name': 'https://commons.wikimedia.org/wiki/Category',\n",
      "               'type': 'URL'},\n",
      "              {'matches': [{'length': 9, 'offset': 378, 'text': 'wikimedia'},\n",
      "                           {'length': 9, 'offset': 681, 'text': 'wikimedia'}],\n",
      "               'name': 'wikimedia',\n",
      "               'type': 'Location'},\n",
      "              {'matches': [{'length': 1, 'offset': 431, 'text': '0'}],\n",
      "               'name': '0',\n",
      "               'subType': 'Number',\n",
      "               'type': 'Quantity'},\n",
      "              {'matches': [{'length': 10, 'offset': 444, 'text': '1433347363'}],\n",
      "               'name': '1433347363',\n",
      "               'subType': 'Number',\n",
      "               'type': 'Quantity'},\n",
      "              {'matches': [{'length': 2, 'offset': 486, 'text': '14'}],\n",
      "               'name': '14',\n",
      "               'subType': 'Number',\n",
      "               'type': 'Quantity'},\n",
      "              {'matches': [{'length': 9, 'offset': 557, 'text': '341707596'}],\n",
      "               'name': '341707596',\n",
      "               'subType': 'Number',\n",
      "               'type': 'Quantity'},\n",
      "              {'matches': [{'length': 21,\n",
      "                            'offset': 598,\n",
      "                            'text': 'commons.wikimedia.org'},\n",
      "                           {'length': 21,\n",
      "                            'offset': 673,\n",
      "                            'text': 'commons.wikimedia.org'}],\n",
      "               'name': 'commons.wikimedia.org',\n",
      "               'type': 'URL'},\n",
      "              {'matches': [{'length': 10, 'offset': 710, 'text': '1551874816'}],\n",
      "               'name': '1551874816',\n",
      "               'subType': 'Number',\n",
      "               'type': 'Quantity'},\n",
      "              {'bingId': 'd635b0cd-882a-47bf-bdcf-19669d7d9f0b',\n",
      "               'matches': [{'length': 7, 'offset': 777, 'text': 'Giorgio'}],\n",
      "               'name': 'Giorgio Cornacchia',\n",
      "               'wikipediaId': 'Giorgio Cornacchia',\n",
      "               'wikipediaLanguage': 'en',\n",
      "               'wikipediaUrl': 'https://en.wikipedia.org/wiki/Giorgio_Cornacchia'},\n",
      "              {'matches': [{'length': 15,\n",
      "                            'offset': 777,\n",
      "                            'text': 'Giorgio Michele'}],\n",
      "               'name': 'Giorgio Michele',\n",
      "               'type': 'Person'},\n",
      "              {'bingId': 'f61aad89-604c-e402-62f7-e5607b0b2574',\n",
      "               'matches': [{'length': 7, 'offset': 785, 'text': 'Michele'}],\n",
      "               'name': 'Michele Serra',\n",
      "               'wikipediaId': 'Michele Serra',\n",
      "               'wikipediaLanguage': 'en',\n",
      "               'wikipediaUrl': 'https://en.wikipedia.org/wiki/Michele_Serra'}],\n",
      " 'id': '2'}\n"
     ]
    }
   ],
   "source": [
    "import requests\n",
    "from pprint import pprint\n",
    "headers   = {\"Ocp-Apim-Subscription-Key\": subscription_key}\n",
    "response  = requests.post(text_analytics_base_url, headers=headers, json=finaldocuments)\n",
    "entitities = response.json()\n",
    "pprint(entitities['documents'][0])"
   ]
  },
  {
   "cell_type": "code",
   "execution_count": 12,
   "metadata": {},
   "outputs": [],
   "source": [
    "\n",
    "from requests import get\n",
    "from requests.exceptions import RequestException\n",
    "from contextlib import closing\n",
    "from bs4 import BeautifulSoup\n",
    "\n",
    "\n",
    "def simple_get(url):\n",
    "    try:\n",
    "        with closing(get(url, stream=True)) as resp:\n",
    "            if is_good_response(resp):\n",
    "                return resp.content\n",
    "            else:\n",
    "                return None\n",
    "\n",
    "    except RequestException as e:\n",
    "        log_error('Error during requests to {0} : {1}'.format(url, str(e)))\n",
    "        return None\n",
    "\n",
    "\n",
    "def is_good_response(resp):\n",
    "    content_type = resp.headers['Content-Type'].lower()\n",
    "    return (resp.status_code == 200 \n",
    "            and content_type is not None \n",
    "            and content_type.find('html') > -1)\n",
    "\n",
    "\n",
    "def log_error(e):\n",
    "    print(e)"
   ]
  },
  {
   "cell_type": "code",
   "execution_count": 13,
   "metadata": {},
   "outputs": [],
   "source": [
    "def scrapindeed(urlservices):\n",
    "  total=[]\n",
    "  raw_html = simple_get(urlservices)\n",
    "  myhtml = BeautifulSoup(raw_html, 'html.parser')\n",
    "  tabulka = myhtml.findAll(\"div\",  {\"class\" : \"cmp-review-container\"})\n",
    "  for container in tabulka:\n",
    "      partial=[]\n",
    "      tittle = container.find(\"div\",  {\"class\" : \"cmp-review-title\"})\n",
    "      tittle = tittle.text\n",
    "      partial.append(tittle)\n",
    "      subtittle = container.find(\"div\",  {\"class\" : \"cmp-review-subtitle\"})\n",
    "      subtittle = subtittle.text\n",
    "      partial.append(subtittle)\n",
    "      freetext = container.find(\"span\",  {\"class\" : \"cmp-review-text\"})\n",
    "      myfreetext = freetext.text\n",
    "      partial.append(myfreetext)\n",
    "      protext = container.find(\"div\",  {\"class\" : \"cmp-review-pro-text\"})\n",
    "      if protext is not None:\n",
    "          protext = protext.text\n",
    "      else:\n",
    "          protext=\"\"\n",
    "      partial.append(protext)\n",
    "      constext = container.find(\"div\",  {\"class\" : \"cmp-review-con-text\"})\n",
    "      if constext is not None:\n",
    "          constext= constext.text\n",
    "      else:\n",
    "          constext=\"\"\n",
    "      partial.append(constext)\n",
    "      total.append(partial)\n",
    "      print(\"#########\")\n",
    "  return(total)"
   ]
  },
  {
   "cell_type": "code",
   "execution_count": 14,
   "metadata": {},
   "outputs": [
    {
     "name": "stdout",
     "output_type": "stream",
     "text": [
      "#########\n",
      "#########\n",
      "#########\n",
      "#########\n",
      "#########\n",
      "#########\n",
      "#########\n",
      "#########\n",
      "#########\n",
      "#########\n",
      "#########\n",
      "#########\n",
      "#########\n",
      "#########\n",
      "#########\n",
      "#########\n",
      "#########\n",
      "#########\n",
      "#########\n",
      "#########\n",
      "#########\n"
     ]
    }
   ],
   "source": [
    "urlservices= \"https://www.indeed.co.uk/cmp/Microsoft/reviews?fcountry=ALL\"\n",
    "total =scrapindeed(urlservices)"
   ]
  },
  {
   "cell_type": "code",
   "execution_count": 15,
   "metadata": {},
   "outputs": [
    {
     "name": "stdout",
     "output_type": "stream",
     "text": [
      "Good culture & great flexibility. Can be a little hard to get promotions and forward career.Company definitely changed over etc years, less autonomy at a local level and more direction form corporate.\n"
     ]
    }
   ],
   "source": [
    "print(total[0][2])"
   ]
  },
  {
   "cell_type": "code",
   "execution_count": 16,
   "metadata": {},
   "outputs": [],
   "source": [
    "count=0\n",
    "count = 0\n",
    "finaldocuments={}\n",
    "documents=[]\n",
    "for doc in total:\n",
    "    count = count + 1\n",
    "    microdict={}\n",
    "    microdict['language']= \"en\"\n",
    "    microdict['text']=doc[2]\n",
    "    microdict['id']=count\n",
    "            #print(microdict)\n",
    "    documents.append(microdict)\n",
    "\n",
    "finaldocuments['documents']=documents\n"
   ]
  },
  {
   "cell_type": "code",
   "execution_count": 20,
   "metadata": {},
   "outputs": [],
   "source": [
    "\n",
    "    \n",
    "subscription_key = \"3d80e125aeba44739c7d9b62c9c02c30\"\n",
    "assert subscription_key\n",
    "text_analytics_base_url = \"https://westeurope.api.cognitive.microsoft.com/text/analytics/v2.0/sentiment\""
   ]
  },
  {
   "cell_type": "code",
   "execution_count": 21,
   "metadata": {},
   "outputs": [
    {
     "name": "stdout",
     "output_type": "stream",
     "text": [
      "[{'id': '1', 'score': 0.24263864755630493},\n",
      " {'id': '2', 'score': 0.900293231010437},\n",
      " {'id': '3', 'score': 0.7533862590789795},\n",
      " {'id': '4', 'score': 0.9833383560180664},\n",
      " {'id': '5', 'score': 0.9917384386062622},\n",
      " {'id': '6', 'score': 0.18718767166137695},\n",
      " {'id': '7', 'score': 0.9208264350891113},\n",
      " {'id': '8', 'score': 0.9352567195892334},\n",
      " {'id': '9', 'score': 0.9177365303039551},\n",
      " {'id': '10', 'score': 0.9764247536659241},\n",
      " {'id': '11', 'score': 0.9955078363418579},\n",
      " {'id': '12', 'score': 0.8605165481567383},\n",
      " {'id': '13', 'score': 0.14737674593925476},\n",
      " {'id': '14', 'score': 0.5},\n",
      " {'id': '15', 'score': 0.9474412798881531},\n",
      " {'id': '16', 'score': 0.9420700073242188},\n",
      " {'id': '17', 'score': 0.5},\n",
      " {'id': '18', 'score': 0.8775898218154907},\n",
      " {'id': '19', 'score': 0.8037079572677612},\n",
      " {'id': '20', 'score': 0.876105546951294},\n",
      " {'id': '21', 'score': 0.9323774576187134}]\n"
     ]
    }
   ],
   "source": [
    "headers   = {\"Ocp-Apim-Subscription-Key\": subscription_key}\n",
    "response  = requests.post(text_analytics_base_url, headers=headers, json=finaldocuments)\n",
    "sentiments = response.json()\n",
    "pprint(sentiments['documents'])"
   ]
  },
  {
   "cell_type": "code",
   "execution_count": 30,
   "metadata": {},
   "outputs": [],
   "source": [
    "totalscoreslist=[]\n",
    "totalindex=[]\n",
    "averagescore = len(sentiments['documents'])\n",
    "totalscore = 0\n",
    "for k in sentiments['documents']:\n",
    "    totalscore=totalscore + k['score']\n",
    "    totalscoreslist.append(k['score'])\n",
    "    totalindex.append(k['id'])\n",
    "    "
   ]
  },
  {
   "cell_type": "code",
   "execution_count": 31,
   "metadata": {},
   "outputs": [
    {
     "name": "stdout",
     "output_type": "stream",
     "text": [
      "0.7710247735182444\n"
     ]
    }
   ],
   "source": [
    "print(totalscore/averagescore)"
   ]
  },
  {
   "cell_type": "code",
   "execution_count": 35,
   "metadata": {},
   "outputs": [
    {
     "data": {
      "image/png": "[encoded data removed]",
      "text/plain": [
       "<Figure size 432x288 with 1 Axes>"
      ]
     },
     "metadata": {
      "needs_background": "light"
     },
     "output_type": "display_data"
    }
   ],
   "source": [
    "bar_width = 0.35\n",
    "opacity = 0.4\n",
    "import matplotlib.pyplot as plt\n",
    "fig, ax = plt.subplots()\n",
    "rects1 = ax.bar(totalindex, totalscoreslist, bar_width,\n",
    "                alpha=opacity, color='b',\n",
    "                label='Scores')"
   ]
  },
  {
   "cell_type": "code",
   "execution_count": 36,
   "metadata": {},
   "outputs": [
    {
     "name": "stdout",
     "output_type": "stream",
     "text": [
      "{\n",
      " \"documents\": [\n",
      "  {\n",
      "   \"language\": \"en\",\n",
      "   \"text\": \"Good culture & great flexibility. Can be a little hard to get promotions and forward career.Company definitely changed over etc years, less autonomy at a local level and more direction form corporate.\",\n",
      "   \"id\": 1\n",
      "  },\n",
      "  {\n",
      "   \"language\": \"en\",\n",
      "   \"text\": \"Microsoft is a great company to work for with very talented people. The culture is typical american where you work hard and are measured on performance , however there is alot of fun and the enviroment is fantastic.I learned a lot about delivering results against plans, strategies and timelines as well as the power of teamwork and collaboration\",\n",
      "   \"id\": 2\n",
      "  },\n",
      "  {\n",
      "   \"language\": \"en\",\n",
      "   \"text\": \"Overall Microsoft has been a great company to work for.  The work life balance is just about right and the pay and benefits are comparable to other companies.\",\n",
      "   \"id\": 3\n",
      "  },\n",
      "  {\n",
      "   \"language\": \"en\",\n",
      "   \"text\": \"Superb company to work for, fond memories. Fantastic benefits and facilities. Cutting edge technology. Culture is very good. Allows scope to challenge conventional methodologies and ideas. Good management and clear company mission statement and direction.\",\n",
      "   \"id\": 4\n",
      "  },\n",
      "  {\n",
      "   \"language\": \"en\",\n",
      "   \"text\": \"Most professional , driven company I have worked for , quality of management superb. Conditions and benefits are really flexible, technology as you would expect is superb.\",\n",
      "   \"id\": 5\n",
      "  },\n",
      "  {\n",
      "   \"language\": \"en\",\n",
      "   \"text\": \"In this Job, I found that the work environment was beyond friendly and the team that I was working in was a well-organised unit which allowed us to operate together. However, this role paid minimum wage and didn't have any other benefits other than free drinks from the staff fridge. It was also a zero-hours contract that had me a couple of days before they wanted me, and I ended up working as few as two days a month.\",\n",
      "   \"id\": 6\n",
      "  },\n",
      "  {\n",
      "   \"language\": \"en\",\n",
      "   \"text\": \"Great job culture and benefits but minimal advancement opportunities.ProsFlexitimeBonusesConsLong hoursNo progressionCritical management\",\n",
      "   \"id\": 7\n",
      "  },\n",
      "  {\n",
      "   \"language\": \"en\",\n",
      "   \"text\": \"Great people, fast moving change environment. Pro-activity encouraged and rewarded.The speed of change with M365 fast releases makes the job challenging but rewarding.\",\n",
      "   \"id\": 8\n",
      "  },\n",
      "  {\n",
      "   \"language\": \"en\",\n",
      "   \"text\": \"very good culture, lots of opportunity to change roles and explore different areas within the business. Explored different areas such as testing and sales.\",\n",
      "   \"id\": 9\n",
      "  },\n",
      "  {\n",
      "   \"language\": \"en\",\n",
      "   \"text\": \"I have enjoyed my time at Microsoft, further developing my stakeholders engagement skills as well as my direct sourcing expertise on quite a wide range of both individual contributor roles and leadership/people management roles across EMEA. I have learnt to be a better business trusted advisor, by asking good questions, actively listening, showing genuine interest in the business, using empathy and growth mindset. I have also reinforced my coaching skills with my stakeholders.\",\n",
      "   \"id\": 10\n",
      "  },\n",
      "  {\n",
      "   \"language\": \"en\",\n",
      "   \"text\": \"Amazing Office, Loving Teams, Eventful Days. Microsoft is a 5 star company to work for and I am proud to have been a part of their development. Day to day, in a flexible office space with a good work/life flow.\",\n",
      "   \"id\": 11\n",
      "  },\n",
      "  {\n",
      "   \"language\": \"en\",\n",
      "   \"text\": \"the job its self was intereasting and varied, and the staff (i.e. other contractors) were fantastic people and great to work with.my direct line manager (microsoft FTE) was an excellent manager and I had the utmost respect for her professionally.However the Leadership very much saw Contractors as \\\"disposable resources\\\" (albeit obviously very useful ones!) and so there were certain situatiuons whereby there was a definite feel that we were treated as subordinates.Microsoft introduced a global policy whereby contractors would not be permitted to work longer than 18-months with the company, and did not take any on as permanent employees after this time during either of my tenures with the company.\",\n",
      "   \"id\": 12\n",
      "  },\n",
      "  {\n",
      "   \"language\": \"en\",\n",
      "   \"text\": \"My review  relates to Microsoft in the Middle East and Africa. Very poor work culture, not much room for advancement. Company cares only about the bottom line and staff turnover is high. Management can be verbally abusive and benefits are nothing like you get in Europe or America.\",\n",
      "   \"id\": 13\n",
      "  },\n",
      "  {\n",
      "   \"language\": \"en\",\n",
      "   \"text\": \"F\\u00e1cil manera de trabajar, tienen muy en cuenta la vida familiar fuera del trabajo.Ninguna pega a la hora de trabajar desde casa si uno o varios d\\u00edas  por cualquier motivo no se puede ir a la oficina.Todo los compa\\u00f1eros pon\\u00edan mucho empe\\u00f1o y nos ayudaban que a los nuevos trabajadores para que nos adapt\\u00e1semos a la empresa y a su cultura de trabajoMi opini\\u00f3n es de Microsoft Reading (Inglaterra)\",\n",
      "   \"id\": 14\n",
      "  },\n",
      "  {\n",
      "   \"language\": \"en\",\n",
      "   \"text\": \"The GoodWorking for a strategic programme or team, you will find excellent cooperation with team members, professional colleagues, good tools for the job, and good renumeration and benefits.The BadThe fierce competition at senior manager level escalates down through the organization, and can show itself in competition between organizations to take credit for acheivements, and to push responibility for delivering on promises to other teams.When it Gets Ugly Company strategy can change quickly so that a strategic initiative can move out of focus. At this point, there will be little hesitation before \\\"right-sizing\\\" the organization to new priorities.\",\n",
      "   \"id\": 15\n",
      "  },\n",
      "  {\n",
      "   \"language\": \"en\",\n",
      "   \"text\": \"It's important that we feel encouraged to contribute to their unique insight and skills to help solve some of the most complex technology challenges. We were supporting seven major employee groups and over 40 employee networks that help us build a supportive community across Microsoft.\",\n",
      "   \"id\": 16\n",
      "  },\n",
      "  {\n",
      "   \"language\": \"en\",\n",
      "   \"text\": \"Stup\\u00e9fait par les conditions de travail, le management, les locaux, les cantines, caf\\u00e9s et m\\u00eame un super march\\u00e9 \\u00e0 l\\u2019int\\u00e9rieur du campus.De nombreuse salle de travail et air de travail sont \\u00e0 disposition avec des jeux et des \\u00e9quipements pour la relaxation.\",\n",
      "   \"id\": 17\n",
      "  },\n",
      "  {\n",
      "   \"language\": \"en\",\n",
      "   \"text\": \"Extremely proud to work for an organisation who\\u2019s mission is to empower every person and organisation on the planet to achieve more.Always encouraged to have a growth mindset inside and outside the organisation.\",\n",
      "   \"id\": 18\n",
      "  },\n",
      "  {\n",
      "   \"language\": \"en\",\n",
      "   \"text\": \"Amazing experience when working in as a placement year student. The role was unique, challenging and focused on development, allowing me to put what I'd learnt at University into action.\",\n",
      "   \"id\": 19\n",
      "  },\n",
      "  {\n",
      "   \"language\": \"en\",\n",
      "   \"text\": \"Although shown as Microsoft, I was actually working on Contract for SKYPE post the Microsoft acquisition through a consultancy (OOMRI).My Role was the re-addressing of SKYPE corporate address space to MS standards.An enjoyable place to work, Staff at SKYPE helpful and knowledgeable.\",\n",
      "   \"id\": 20\n",
      "  },\n",
      "  {\n",
      "   \"language\": \"en\",\n",
      "   \"text\": \"Being a PFE was amazing I spent 9 years travelling and meeting new people and showcasing my skills, I also got to travel to america quite a bit which was amazing\",\n",
      "   \"id\": 21\n",
      "  }\n",
      " ]\n",
      "}\n"
     ]
    }
   ],
   "source": [
    "print(json.dumps(finaldocuments,indent=1))"
   ]
  },
  {
   "cell_type": "code",
   "execution_count": null,
   "metadata": {},
   "outputs": [],
   "source": []
  }
 ],
 "metadata": {
  "kernelspec": {
   "display_name": "Python 3",
   "language": "python",
   "name": "python3"
  },
  "language_info": {
   "codemirror_mode": {
    "name": "ipython",
    "version": 3
   },
   "file_extension": ".py",
   "mimetype": "text/x-python",
   "name": "python",
   "nbconvert_exporter": "python",
   "pygments_lexer": "ipython3",
   "version": "3.6.7"
  }
 },
 "nbformat": 4,
 "nbformat_minor": 2
}
